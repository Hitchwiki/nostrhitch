{
 "cells": [
  {
   "cell_type": "code",
   "execution_count": null,
   "id": "fc061ad7",
   "metadata": {},
   "outputs": [],
   "source": [
    "import requests\n",
    "\n",
    "url = \"https://raw.githubusercontent.com/<username>/<repo>/<branch>/<path_to_file>.py\"\n",
    "response = requests.get(url)\n",
    "\n",
    "with open(\"module_name.py\", \"w\") as f:\n",
    "    f.write(response.text)\n"
   ]
  }
 ],
 "metadata": {
  "language_info": {
   "name": "python"
  }
 },
 "nbformat": 4,
 "nbformat_minor": 5
}
