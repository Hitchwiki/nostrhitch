{
 "cells": [
  {
   "cell_type": "code",
   "execution_count": 2,
   "id": "b3b3e3e9",
   "metadata": {},
   "outputs": [],
   "source": [
    "import requests\n",
    "\n",
    "url = \"https://raw.githubusercontent.com/Hitchwiki/hitchhiking-data-standard/refs/heads/main/python/python.py\"\n",
    "response = requests.get(url)\n",
    "\n",
    "with open(\"data_standard_pydantic_model.py\", \"w\") as f:\n",
    "    f.write(response.text)"
   ]
  },
  {
   "cell_type": "code",
   "execution_count": 3,
   "id": "7d3c69cd",
   "metadata": {},
   "outputs": [],
   "source": [
    "from data_standard_pydantic_model import Hitchhiker, HitchhikingRecord, Location, Signal, Stop"
   ]
  },
  {
   "cell_type": "code",
   "execution_count": 4,
   "id": "c08ed0d5",
   "metadata": {},
   "outputs": [],
   "source": [
    "import sqlite3\n",
    "import pandas as pd\n",
    "from tqdm import tqdm\n",
    "import os\n",
    "import wget\n",
    "from dotenv import load_dotenv\n",
    "load_dotenv()\n",
    "\n",
    "pd.set_option('display.max_rows', None)\n",
    "pd.set_option('display.max_columns', None)\n",
    "pd.set_option('display.max_colwidth', None) \n"
   ]
  },
  {
   "cell_type": "code",
   "execution_count": 5,
   "id": "18c8d586",
   "metadata": {},
   "outputs": [],
   "source": [
    "url = 'https://hitchmap.com/dump.sqlite'\n",
    "filename = 'dump.sqlite'\n",
    "if os.path.exists(filename):\n",
    "        os.remove(filename)\n",
    "filename = wget.download(url)"
   ]
  },
  {
   "cell_type": "code",
   "execution_count": 6,
   "id": "00435302",
   "metadata": {},
   "outputs": [
    {
     "name": "stderr",
     "output_type": "stream",
     "text": [
      "/tmp/ipykernel_319728/1960641822.py:8: FutureWarning: A value is trying to be set on a copy of a DataFrame or Series through chained assignment using an inplace method.\n",
      "The behavior will change in pandas 3.0. This inplace method will never work because the intermediate object on which we are setting values always behaves as a copy.\n",
      "\n",
      "For example, when doing 'df[col].method(value, inplace=True)', try using 'df.method({col: value}, inplace=True)' or df[col] = df[col].method(value) instead, to perform the operation inplace on the original object.\n",
      "\n",
      "\n",
      "  points[\"ride_datetime\"].replace(\"0224-10-31T21:30\", None, inplace=True)\n",
      "/tmp/ipykernel_319728/1960641822.py:9: FutureWarning: A value is trying to be set on a copy of a DataFrame or Series through chained assignment using an inplace method.\n",
      "The behavior will change in pandas 3.0. This inplace method will never work because the intermediate object on which we are setting values always behaves as a copy.\n",
      "\n",
      "For example, when doing 'df[col].method(value, inplace=True)', try using 'df.method({col: value}, inplace=True)' or df[col] = df[col].method(value) instead, to perform the operation inplace on the original object.\n",
      "\n",
      "\n",
      "  points[\"ride_datetime\"].replace(\"0025-03-07T08:00\", None, inplace=True)\n",
      "/tmp/ipykernel_319728/1960641822.py:10: FutureWarning: A value is trying to be set on a copy of a DataFrame or Series through chained assignment using an inplace method.\n",
      "The behavior will change in pandas 3.0. This inplace method will never work because the intermediate object on which we are setting values always behaves as a copy.\n",
      "\n",
      "For example, when doing 'df[col].method(value, inplace=True)', try using 'df.method({col: value}, inplace=True)' or df[col] = df[col].method(value) instead, to perform the operation inplace on the original object.\n",
      "\n",
      "\n",
      "  points[\"ride_datetime\"].replace(\"1014-11-04T14:30\", None, inplace=True)\n",
      "/tmp/ipykernel_319728/1960641822.py:11: FutureWarning: A value is trying to be set on a copy of a DataFrame or Series through chained assignment using an inplace method.\n",
      "The behavior will change in pandas 3.0. This inplace method will never work because the intermediate object on which we are setting values always behaves as a copy.\n",
      "\n",
      "For example, when doing 'df[col].method(value, inplace=True)', try using 'df.method({col: value}, inplace=True)' or df[col] = df[col].method(value) instead, to perform the operation inplace on the original object.\n",
      "\n",
      "\n",
      "  points[\"ride_datetime\"].replace(\"0202-04-03T18:50\", None, inplace=True)\n"
     ]
    },
    {
     "data": {
      "text/plain": [
       "67559"
      ]
     },
     "execution_count": 6,
     "metadata": {},
     "output_type": "execute_result"
    }
   ],
   "source": [
    "fn = 'dump.sqlite'\n",
    "points = pd.read_sql('select * from points where not banned', sqlite3.connect(fn))\n",
    "points[\"datetime\"] = points[\"datetime\"].astype(\"datetime64[ns]\")\n",
    "\n",
    "points.loc[points[\"datetime\"] < \"2000-01-01\", \"datetime\"] = None\n",
    "\n",
    "# cleaning invalid timestamps\n",
    "points[\"ride_datetime\"].replace(\"0224-10-31T21:30\", None, inplace=True)\n",
    "points[\"ride_datetime\"].replace(\"0025-03-07T08:00\", None, inplace=True)\n",
    "points[\"ride_datetime\"].replace(\"1014-11-04T14:30\", None, inplace=True)\n",
    "points[\"ride_datetime\"].replace(\"0202-04-03T18:50\", None, inplace=True)\n",
    "\n",
    "points[\"ride_datetime\"] = points[\"ride_datetime\"].astype(\"datetime64[ns]\")\n",
    "len(points)"
   ]
  },
  {
   "cell_type": "code",
   "execution_count": 7,
   "id": "64c37307",
   "metadata": {},
   "outputs": [
    {
     "data": {
      "text/html": [
       "<div>\n",
       "<style scoped>\n",
       "    .dataframe tbody tr th:only-of-type {\n",
       "        vertical-align: middle;\n",
       "    }\n",
       "\n",
       "    .dataframe tbody tr th {\n",
       "        vertical-align: top;\n",
       "    }\n",
       "\n",
       "    .dataframe thead th {\n",
       "        text-align: right;\n",
       "    }\n",
       "</style>\n",
       "<table border=\"1\" class=\"dataframe\">\n",
       "  <thead>\n",
       "    <tr style=\"text-align: right;\">\n",
       "      <th></th>\n",
       "      <th>id</th>\n",
       "      <th>lat</th>\n",
       "      <th>lon</th>\n",
       "      <th>rating</th>\n",
       "      <th>country</th>\n",
       "      <th>wait</th>\n",
       "      <th>nickname</th>\n",
       "      <th>comment</th>\n",
       "      <th>datetime</th>\n",
       "      <th>reviewed</th>\n",
       "      <th>banned</th>\n",
       "      <th>ip</th>\n",
       "      <th>dest_lat</th>\n",
       "      <th>dest_lon</th>\n",
       "      <th>signal</th>\n",
       "      <th>ride_datetime</th>\n",
       "      <th>user_id</th>\n",
       "      <th>from_hitchwiki</th>\n",
       "    </tr>\n",
       "  </thead>\n",
       "  <tbody>\n",
       "    <tr>\n",
       "      <th>0</th>\n",
       "      <td>0</td>\n",
       "      <td>40.974714</td>\n",
       "      <td>27.511654</td>\n",
       "      <td>3.0</td>\n",
       "      <td>TR</td>\n",
       "      <td>NaN</td>\n",
       "      <td>Tamergem</td>\n",
       "      <td>If you avoid the mini busses, you can get on a ride within 10 minutes, and Tekirdag city is a bridge between Istanbul and Greece. I always use that city center spot and it is quite good</td>\n",
       "      <td>2011-05-26 10:06:17</td>\n",
       "      <td>1</td>\n",
       "      <td>0</td>\n",
       "      <td></td>\n",
       "      <td>NaN</td>\n",
       "      <td>NaN</td>\n",
       "      <td>None</td>\n",
       "      <td>NaT</td>\n",
       "      <td>NaN</td>\n",
       "      <td>1.0</td>\n",
       "    </tr>\n",
       "    <tr>\n",
       "      <th>1</th>\n",
       "      <td>1</td>\n",
       "      <td>32.072756</td>\n",
       "      <td>34.793444</td>\n",
       "      <td>4.0</td>\n",
       "      <td>IL</td>\n",
       "      <td>NaN</td>\n",
       "      <td>None</td>\n",
       "      <td>None</td>\n",
       "      <td>NaT</td>\n",
       "      <td>1</td>\n",
       "      <td>0</td>\n",
       "      <td></td>\n",
       "      <td>NaN</td>\n",
       "      <td>NaN</td>\n",
       "      <td>None</td>\n",
       "      <td>NaT</td>\n",
       "      <td>NaN</td>\n",
       "      <td>NaN</td>\n",
       "    </tr>\n",
       "    <tr>\n",
       "      <th>2</th>\n",
       "      <td>2</td>\n",
       "      <td>41.727928</td>\n",
       "      <td>27.220731</td>\n",
       "      <td>4.0</td>\n",
       "      <td>TR</td>\n",
       "      <td>NaN</td>\n",
       "      <td>None</td>\n",
       "      <td>None</td>\n",
       "      <td>NaT</td>\n",
       "      <td>1</td>\n",
       "      <td>0</td>\n",
       "      <td></td>\n",
       "      <td>NaN</td>\n",
       "      <td>NaN</td>\n",
       "      <td>None</td>\n",
       "      <td>NaT</td>\n",
       "      <td>NaN</td>\n",
       "      <td>NaN</td>\n",
       "    </tr>\n",
       "    <tr>\n",
       "      <th>3</th>\n",
       "      <td>3</td>\n",
       "      <td>41.099858</td>\n",
       "      <td>29.007339</td>\n",
       "      <td>3.0</td>\n",
       "      <td>TR</td>\n",
       "      <td>NaN</td>\n",
       "      <td>Xavierallard</td>\n",
       "      <td>There is a lot of traffic there and little space to stop. I found it hard.</td>\n",
       "      <td>2011-03-15 12:52:11</td>\n",
       "      <td>1</td>\n",
       "      <td>0</td>\n",
       "      <td></td>\n",
       "      <td>NaN</td>\n",
       "      <td>NaN</td>\n",
       "      <td>None</td>\n",
       "      <td>NaT</td>\n",
       "      <td>NaN</td>\n",
       "      <td>1.0</td>\n",
       "    </tr>\n",
       "    <tr>\n",
       "      <th>4</th>\n",
       "      <td>4</td>\n",
       "      <td>30.169989</td>\n",
       "      <td>66.999612</td>\n",
       "      <td>3.0</td>\n",
       "      <td>PK</td>\n",
       "      <td>NaN</td>\n",
       "      <td>None</td>\n",
       "      <td>None</td>\n",
       "      <td>NaT</td>\n",
       "      <td>1</td>\n",
       "      <td>0</td>\n",
       "      <td></td>\n",
       "      <td>NaN</td>\n",
       "      <td>NaN</td>\n",
       "      <td>None</td>\n",
       "      <td>NaT</td>\n",
       "      <td>NaN</td>\n",
       "      <td>NaN</td>\n",
       "    </tr>\n",
       "  </tbody>\n",
       "</table>\n",
       "</div>"
      ],
      "text/plain": [
       "   id        lat        lon  rating country  wait      nickname  \\\n",
       "0   0  40.974714  27.511654     3.0      TR   NaN      Tamergem   \n",
       "1   1  32.072756  34.793444     4.0      IL   NaN          None   \n",
       "2   2  41.727928  27.220731     4.0      TR   NaN          None   \n",
       "3   3  41.099858  29.007339     3.0      TR   NaN  Xavierallard   \n",
       "4   4  30.169989  66.999612     3.0      PK   NaN          None   \n",
       "\n",
       "                                                                                                                                                                                     comment  \\\n",
       "0  If you avoid the mini busses, you can get on a ride within 10 minutes, and Tekirdag city is a bridge between Istanbul and Greece. I always use that city center spot and it is quite good   \n",
       "1                                                                                                                                                                                       None   \n",
       "2                                                                                                                                                                                       None   \n",
       "3                                                                                                                 There is a lot of traffic there and little space to stop. I found it hard.   \n",
       "4                                                                                                                                                                                       None   \n",
       "\n",
       "             datetime  reviewed  banned ip  dest_lat  dest_lon signal  \\\n",
       "0 2011-05-26 10:06:17         1       0          NaN       NaN   None   \n",
       "1                 NaT         1       0          NaN       NaN   None   \n",
       "2                 NaT         1       0          NaN       NaN   None   \n",
       "3 2011-03-15 12:52:11         1       0          NaN       NaN   None   \n",
       "4                 NaT         1       0          NaN       NaN   None   \n",
       "\n",
       "  ride_datetime  user_id  from_hitchwiki  \n",
       "0           NaT      NaN             1.0  \n",
       "1           NaT      NaN             NaN  \n",
       "2           NaT      NaN             NaN  \n",
       "3           NaT      NaN             1.0  \n",
       "4           NaT      NaN             NaN  "
      ]
     },
     "execution_count": 7,
     "metadata": {},
     "output_type": "execute_result"
    }
   ],
   "source": [
    "points.head()"
   ]
  },
  {
   "cell_type": "code",
   "execution_count": 8,
   "id": "606cb54b",
   "metadata": {},
   "outputs": [],
   "source": [
    "# assume that during the lifershalte time the timestamps where not always set\n",
    "# thus attribute this part of the dataset to the lifershalte\n",
    "no_date = points[points[\"datetime\"].isna()]\n",
    "with_date = points[~points[\"datetime\"].isna()]\n",
    "\n",
    "lift = pd.concat([no_date, with_date[with_date[\"datetime\"] < \"2010-08-11\"]])\n",
    "\n",
    "wiki = with_date[(with_date[\"datetime\"] >= \"2010-08-11\") & (with_date[\"datetime\"] < \"2022-10-13\")]\n",
    "\n",
    "map = with_date[with_date[\"datetime\"] >= \"2022-10-13\"]"
   ]
  },
  {
   "cell_type": "code",
   "execution_count": 9,
   "id": "6163b643",
   "metadata": {},
   "outputs": [
    {
     "data": {
      "text/plain": [
       "(7477, 42466, 17616, 67559)"
      ]
     },
     "execution_count": 9,
     "metadata": {},
     "output_type": "execute_result"
    }
   ],
   "source": [
    "len(lift), len(wiki), len(map), len(lift) + len(wiki) + len(map)"
   ]
  },
  {
   "cell_type": "code",
   "execution_count": 10,
   "id": "7de3bfb0",
   "metadata": {},
   "outputs": [],
   "source": [
    "def map_signal(signal: str) -> Signal:\n",
    "    if not signal:\n",
    "        return None\n",
    "\n",
    "    if signal == \"sign\":\n",
    "        return Signal(\n",
    "            methods=[\"sign\"],\n",
    "        )\n",
    "    elif signal == \"thumb\":\n",
    "        return Signal(\n",
    "            methods=[\"thumb\"],\n",
    "        )\n",
    "    elif signal == \"ask\":\n",
    "        return Signal(\n",
    "            methods=[\"asking\"],\n",
    "        )\n",
    "    elif signal == \"ask-sign\":\n",
    "        return Signal(\n",
    "            methods=[\"asking\", \"sign\"],\n",
    "        )\n",
    "    else:\n",
    "        return None\n",
    "\n",
    "\n",
    "def create_record_from_row(row: pd.Series, source: str, license: str, rating_formula= lambda x: x) -> HitchhikingRecord:\n",
    "    stops = [\n",
    "        Stop(\n",
    "            location=Location(latitude=row[\"lat\"], longitude=row[\"lon\"], is_exact=True),\n",
    "            arrival_time=row[\"ride_datetime\"].strftime(\"%Y-%m-%dT%H:%M:%S\") if pd.notna(row[\"ride_datetime\"]) else None,\n",
    "            departure_time=(row[\"ride_datetime\"] + pd.to_timedelta(row[\"wait\"], unit=\"m\")).strftime(\n",
    "                \"%Y-%m-%dT%H:%M:%S\"\n",
    "            )\n",
    "            if pd.notna(row[\"ride_datetime\"]) and pd.notna(row[\"wait\"])\n",
    "            else None,\n",
    "            waiting_duration=f\"{int(row['wait'])}M\" if pd.notna(row[\"wait\"]) else None,\n",
    "        ),\n",
    "    ]\n",
    "    if pd.notna(row[\"dest_lat\"]) and pd.notna(row[\"dest_lon\"]):\n",
    "        stops.append(Stop(location=Location(latitude=row[\"dest_lat\"], longitude=row[\"dest_lon\"], is_exact=False)))\n",
    "\n",
    "    record = HitchhikingRecord(\n",
    "        version=\"0.0.0\",\n",
    "        stops=stops,\n",
    "        rating=rating_formula(row[\"rating\"]),\n",
    "        hitchhikers=[\n",
    "            Hitchhiker(\n",
    "                nickname=row[\"nickname\"] if pd.notna(row[\"nickname\"]) else \"Anonymous\"\n",
    "            )\n",
    "        ],\n",
    "        comment=row[\"comment\"],\n",
    "        signals=[map_signal(row[\"signal\"])] if row[\"signal\"] else None,\n",
    "        occupants=None,\n",
    "        mode_of_transportation=None,\n",
    "        ride=None,\n",
    "        declined_rides=None,\n",
    "        source=source,\n",
    "        license=license,\n",
    "        submission_time=row[\"datetime\"].strftime(\"%Y-%m-%dT%H:%M:%S\") if pd.notna(row[\"datetime\"]) else None,\n",
    "    )\n",
    "\n",
    "    return record"
   ]
  },
  {
   "cell_type": "code",
   "execution_count": 11,
   "id": "c38e28c2",
   "metadata": {},
   "outputs": [
    {
     "name": "stderr",
     "output_type": "stream",
     "text": [
      "100%|██████████| 7477/7477 [00:00<00:00, 14839.19it/s]\n",
      "100%|██████████| 42466/42466 [00:03<00:00, 12419.67it/s]\n",
      "100%|██████████| 17616/17616 [00:01<00:00, 9853.29it/s] \n"
     ]
    }
   ],
   "source": [
    "records = []\n",
    "\n",
    "for _, row in tqdm(lift.iterrows(), total=len(lift)):\n",
    "    records.append(\n",
    "        create_record_from_row(\n",
    "            row,\n",
    "            source=\"liftershalte.info\",\n",
    "            license=\"cc-by-sa-4.0\",\n",
    "        )\n",
    "    )\n",
    "\n",
    "for _, row in tqdm(wiki.iterrows(), total=len(wiki)):\n",
    "    records.append(\n",
    "        create_record_from_row(\n",
    "            row,\n",
    "            source=\"hitchwiki.org\",\n",
    "            license=\"cc-by-sa-4.0\",\n",
    "        )\n",
    "    )\n",
    "\n",
    "for _, row in tqdm(map.iterrows(), total=len(map)):\n",
    "    records.append(\n",
    "        create_record_from_row(\n",
    "            row,\n",
    "            source=\"hitchmap.com\",\n",
    "            license=\"odbl\",\n",
    "        )\n",
    "    )"
   ]
  },
  {
   "cell_type": "code",
   "execution_count": 12,
   "id": "cc1fcebe",
   "metadata": {},
   "outputs": [
    {
     "name": "stdout",
     "output_type": "stream",
     "text": [
      "{\n",
      "  \"version\": \"0.0.0\",\n",
      "  \"stops\": [\n",
      "    {\n",
      "      \"location\": {\n",
      "        \"latitude\": 32.0727564373025,\n",
      "        \"longitude\": 34.7934436798096,\n",
      "        \"is_exact\": true\n",
      "      }\n",
      "    }\n",
      "  ],\n",
      "  \"rating\": 4,\n",
      "  \"hitchhikers\": [\n",
      "    {\n",
      "      \"nickname\": \"Anonymous\"\n",
      "    }\n",
      "  ],\n",
      "  \"source\": \"liftershalte.info\",\n",
      "  \"license\": \"cc-by-sa-4.0\"\n",
      "}\n"
     ]
    }
   ],
   "source": [
    "print(records[0].model_dump_json(indent=2, exclude_none=True))"
   ]
  },
  {
   "cell_type": "code",
   "execution_count": 13,
   "id": "b45072e9",
   "metadata": {},
   "outputs": [],
   "source": [
    "# records_dicts = [r.model_dump(exclude_none=False, by_alias=True) for r in records]"
   ]
  },
  {
   "cell_type": "code",
   "execution_count": 14,
   "id": "7c70f71e",
   "metadata": {},
   "outputs": [],
   "source": [
    "from post_data_standard import NostrHitchhikingPostDataStandard"
   ]
  },
  {
   "cell_type": "code",
   "execution_count": 15,
   "id": "196ccc74",
   "metadata": {},
   "outputs": [
    {
     "name": "stdout",
     "output_type": "stream",
     "text": [
      "Posting as npub npub169ll2xluxt2fy9lgeddl54v2tfuwdjlrafxeg7ktclc3efw9m02szsw962\n"
     ]
    }
   ],
   "source": [
    "poster = NostrHitchhikingPostDataStandard()"
   ]
  },
  {
   "cell_type": "code",
   "execution_count": 16,
   "id": "79b8676d",
   "metadata": {},
   "outputs": [
    {
     "data": {
      "text/plain": [
       "HitchhikingRecord(version='0.0.0', stops=[Stop(location=Location(latitude=32.0727564373025, longitude=34.7934436798096, is_exact=True), arrival_time=None, departure_time=None, waiting_duration=None)], rating=4, hitchhikers=[Hitchhiker(origin_location=None, origin_country=None, year_of_birth=None, gender=None, languages=None, was_driver=None, nickname='Anonymous', hitchhiking_since=None, reasons_to_hitchhike=None)], comment=None, signals=None, occupants=None, mode_of_transportation=None, ride=None, declined_rides=None, source='liftershalte.info', license='cc-by-sa-4.0', submission_time=None)"
      ]
     },
     "execution_count": 16,
     "metadata": {},
     "output_type": "execute_result"
    }
   ],
   "source": [
    "records[0]"
   ]
  },
  {
   "cell_type": "code",
   "execution_count": null,
   "id": "732fd205",
   "metadata": {},
   "outputs": [
    {
     "name": "stdout",
     "output_type": "stream",
     "text": [
      "vars(event)\n",
      "{'content': '{\"version\":\"0.0.0\",\"stops\":[{\"location\":{\"latitude\":47.60448057677427,\"longitude\":21.569467198241913,\"is_exact\":true},\"arrival_time\":\"2025-08-05T16:52:00\",\"departure_time\":\"2025-08-05T17:32:00\",\"waiting_duration\":\"40M\"},{\"location\":{\"latitude\":47.66346083959451,\"longitude\":21.513558290898807,\"is_exact\":false}}],\"rating\":3,\"hitchhikers\":[{\"nickname\":\"Anonymous\"}],\"comment\":\"Fast '\n",
      "            \"traffic, but maybe in the city it's \"\n",
      "            'better.\",\"signals\":[{\"methods\":[\"thumb\"]}],\"source\":\"hitchmap.com\",\"license\":\"odbl\",\"submission_time\":\"2025-08-06T19:52:55\"}',\n",
      " 'created_at': 1756650190,\n",
      " 'id': '27ef9627895d92a9464fd9358ffa18886b23d0733390680e45d464d1aa59109c',\n",
      " 'kind': 36820,\n",
      " 'pubkey': 'd17ff51bfc32d49217e8cb5bfa558a5a78e6cbe3ea4d947acbc7f11ca5c5dbd5',\n",
      " 'sig': '083cc95137571be5f920f860903a3a2fc2b9e156269bd51ba77a14cccb9b2a7f35f7e2784dc9fe9ee8cdb83a644ff419ef3b739ca319a0cd2dd725f6238921b2',\n",
      " 'tags': [['expiration', 0],\n",
      "          ['d', 'hitchmap.com-95d92e94-1464-41ad-8ac2-1bcda0afc49a'],\n",
      "          ['g', 'u2rqff4kjn'],\n",
      "          ['published_at', '1756650190']]}\n",
      "posting to relays\n"
     ]
    },
    {
     "ename": "RuntimeError",
     "evalue": "This event loop is already running",
     "output_type": "error",
     "traceback": [
      "\u001b[31m---------------------------------------------------------------------------\u001b[39m",
      "\u001b[31mRuntimeError\u001b[39m                              Traceback (most recent call last)",
      "\u001b[36mCell\u001b[39m\u001b[36m \u001b[39m\u001b[32mIn[17]\u001b[39m\u001b[32m, line 1\u001b[39m\n\u001b[32m----> \u001b[39m\u001b[32m1\u001b[39m \u001b[43mposter\u001b[49m\u001b[43m.\u001b[49m\u001b[43mpost\u001b[49m\u001b[43m(\u001b[49m\u001b[43mride_record\u001b[49m\u001b[43m=\u001b[49m\u001b[43mrecords\u001b[49m\u001b[43m[\u001b[49m\u001b[43m-\u001b[49m\u001b[32;43m1\u001b[39;49m\u001b[43m]\u001b[49m\u001b[43m)\u001b[49m\n",
      "\u001b[36mFile \u001b[39m\u001b[32m~/projects/hitchhiking/nostrhitch/post_data_standard.py:65\u001b[39m, in \u001b[36mNostrHitchhikingPostDataStandard.post\u001b[39m\u001b[34m(self, ride_record)\u001b[39m\n\u001b[32m     63\u001b[39m \u001b[38;5;28mprint\u001b[39m(\u001b[33m\"\u001b[39m\u001b[33mposting to relays\u001b[39m\u001b[33m\"\u001b[39m)\n\u001b[32m     64\u001b[39m \u001b[38;5;28mself\u001b[39m.relay_manager.publish_event(event)\n\u001b[32m---> \u001b[39m\u001b[32m65\u001b[39m \u001b[38;5;28;43mself\u001b[39;49m\u001b[43m.\u001b[49m\u001b[43mrelay_manager\u001b[49m\u001b[43m.\u001b[49m\u001b[43mrun_sync\u001b[49m\u001b[43m(\u001b[49m\u001b[43m)\u001b[49m  \u001b[38;5;66;03m# Sync with the relay to send the event\u001b[39;00m\n\u001b[32m     66\u001b[39m \u001b[38;5;28mprint\u001b[39m(\u001b[33m\"\u001b[39m\u001b[33mposted, waiting a bit\u001b[39m\u001b[33m\"\u001b[39m)\n\u001b[32m     67\u001b[39m time.sleep(\u001b[32m3\u001b[39m)\n",
      "\u001b[36mFile \u001b[39m\u001b[32m~/projects/hitchhiking/nostrhitch/venv/lib/python3.12/site-packages/pynostr/relay_manager.py:148\u001b[39m, in \u001b[36mRelayManager.run_sync\u001b[39m\u001b[34m(self)\u001b[39m\n\u001b[32m    147\u001b[39m \u001b[38;5;28;01mdef\u001b[39;00m\u001b[38;5;250m \u001b[39m\u001b[34mrun_sync\u001b[39m(\u001b[38;5;28mself\u001b[39m):\n\u001b[32m--> \u001b[39m\u001b[32m148\u001b[39m     \u001b[38;5;28;43mself\u001b[39;49m\u001b[43m.\u001b[49m\u001b[43mio_loop\u001b[49m\u001b[43m.\u001b[49m\u001b[43mrun_sync\u001b[49m\u001b[43m(\u001b[49m\u001b[38;5;28;43;01mlambda\u001b[39;49;00m\u001b[43m:\u001b[49m\u001b[43m \u001b[49m\u001b[38;5;28;43mself\u001b[39;49m\u001b[43m.\u001b[49m\u001b[43mprepare_relays\u001b[49m\u001b[43m(\u001b[49m\u001b[43m)\u001b[49m\u001b[43m)\u001b[49m\n",
      "\u001b[36mFile \u001b[39m\u001b[32m~/projects/hitchhiking/nostrhitch/venv/lib/python3.12/site-packages/tornado/ioloop.py:536\u001b[39m, in \u001b[36mIOLoop.run_sync\u001b[39m\u001b[34m(self, func, timeout)\u001b[39m\n\u001b[32m    533\u001b[39m             \u001b[38;5;28mself\u001b[39m.stop()\n\u001b[32m    535\u001b[39m     timeout_handle = \u001b[38;5;28mself\u001b[39m.add_timeout(\u001b[38;5;28mself\u001b[39m.time() + timeout, timeout_callback)\n\u001b[32m--> \u001b[39m\u001b[32m536\u001b[39m \u001b[38;5;28;43mself\u001b[39;49m\u001b[43m.\u001b[49m\u001b[43mstart\u001b[49m\u001b[43m(\u001b[49m\u001b[43m)\u001b[49m\n\u001b[32m    537\u001b[39m \u001b[38;5;28;01mif\u001b[39;00m timeout \u001b[38;5;129;01mis\u001b[39;00m \u001b[38;5;129;01mnot\u001b[39;00m \u001b[38;5;28;01mNone\u001b[39;00m:\n\u001b[32m    538\u001b[39m     \u001b[38;5;28mself\u001b[39m.remove_timeout(timeout_handle)\n",
      "\u001b[36mFile \u001b[39m\u001b[32m~/projects/hitchhiking/nostrhitch/venv/lib/python3.12/site-packages/tornado/platform/asyncio.py:211\u001b[39m, in \u001b[36mBaseAsyncIOLoop.start\u001b[39m\u001b[34m(self)\u001b[39m\n\u001b[32m    210\u001b[39m \u001b[38;5;28;01mdef\u001b[39;00m\u001b[38;5;250m \u001b[39m\u001b[34mstart\u001b[39m(\u001b[38;5;28mself\u001b[39m) -> \u001b[38;5;28;01mNone\u001b[39;00m:\n\u001b[32m--> \u001b[39m\u001b[32m211\u001b[39m     \u001b[38;5;28;43mself\u001b[39;49m\u001b[43m.\u001b[49m\u001b[43masyncio_loop\u001b[49m\u001b[43m.\u001b[49m\u001b[43mrun_forever\u001b[49m\u001b[43m(\u001b[49m\u001b[43m)\u001b[49m\n",
      "\u001b[36mFile \u001b[39m\u001b[32m/home/linuxbrew/.linuxbrew/opt/python@3.12/lib/python3.12/asyncio/base_events.py:630\u001b[39m, in \u001b[36mBaseEventLoop.run_forever\u001b[39m\u001b[34m(self)\u001b[39m\n\u001b[32m    628\u001b[39m \u001b[38;5;250m\u001b[39m\u001b[33;03m\"\"\"Run until stop() is called.\"\"\"\u001b[39;00m\n\u001b[32m    629\u001b[39m \u001b[38;5;28mself\u001b[39m._check_closed()\n\u001b[32m--> \u001b[39m\u001b[32m630\u001b[39m \u001b[38;5;28;43mself\u001b[39;49m\u001b[43m.\u001b[49m\u001b[43m_check_running\u001b[49m\u001b[43m(\u001b[49m\u001b[43m)\u001b[49m\n\u001b[32m    631\u001b[39m \u001b[38;5;28mself\u001b[39m._set_coroutine_origin_tracking(\u001b[38;5;28mself\u001b[39m._debug)\n\u001b[32m    633\u001b[39m old_agen_hooks = sys.get_asyncgen_hooks()\n",
      "\u001b[36mFile \u001b[39m\u001b[32m/home/linuxbrew/.linuxbrew/opt/python@3.12/lib/python3.12/asyncio/base_events.py:622\u001b[39m, in \u001b[36mBaseEventLoop._check_running\u001b[39m\u001b[34m(self)\u001b[39m\n\u001b[32m    620\u001b[39m \u001b[38;5;28;01mdef\u001b[39;00m\u001b[38;5;250m \u001b[39m\u001b[34m_check_running\u001b[39m(\u001b[38;5;28mself\u001b[39m):\n\u001b[32m    621\u001b[39m     \u001b[38;5;28;01mif\u001b[39;00m \u001b[38;5;28mself\u001b[39m.is_running():\n\u001b[32m--> \u001b[39m\u001b[32m622\u001b[39m         \u001b[38;5;28;01mraise\u001b[39;00m \u001b[38;5;167;01mRuntimeError\u001b[39;00m(\u001b[33m'\u001b[39m\u001b[33mThis event loop is already running\u001b[39m\u001b[33m'\u001b[39m)\n\u001b[32m    623\u001b[39m     \u001b[38;5;28;01mif\u001b[39;00m events._get_running_loop() \u001b[38;5;129;01mis\u001b[39;00m \u001b[38;5;129;01mnot\u001b[39;00m \u001b[38;5;28;01mNone\u001b[39;00m:\n\u001b[32m    624\u001b[39m         \u001b[38;5;28;01mraise\u001b[39;00m \u001b[38;5;167;01mRuntimeError\u001b[39;00m(\n\u001b[32m    625\u001b[39m             \u001b[33m'\u001b[39m\u001b[33mCannot run the event loop while another loop is running\u001b[39m\u001b[33m'\u001b[39m)\n",
      "\u001b[31mRuntimeError\u001b[39m: This event loop is already running"
     ]
    },
    {
     "name": "stderr",
     "output_type": "stream",
     "text": [
      "WARNING:tornado.general:The websocket_ping_timeout (120) cannot be longer than the websocket_ping_interval (60).\n",
      "Setting websocket_ping_timeout=60\n"
     ]
    },
    {
     "ename": "",
     "evalue": "",
     "output_type": "error",
     "traceback": [
      "\u001b[1;31mThe Kernel crashed while executing code in the current cell or a previous cell. \n",
      "\u001b[1;31mPlease review the code in the cell(s) to identify a possible cause of the failure. \n",
      "\u001b[1;31mClick <a href='https://aka.ms/vscodeJupyterKernelCrash'>here</a> for more info. \n",
      "\u001b[1;31mView Jupyter <a href='command:jupyter.viewOutput'>log</a> for further details."
     ]
    }
   ],
   "source": [
    "poster.post(ride_record=records[-1])"
   ]
  }
 ],
 "metadata": {
  "kernelspec": {
   "display_name": "venv (3.12.6)",
   "language": "python",
   "name": "python3"
  },
  "language_info": {
   "codemirror_mode": {
    "name": "ipython",
    "version": 3
   },
   "file_extension": ".py",
   "mimetype": "text/x-python",
   "name": "python",
   "nbconvert_exporter": "python",
   "pygments_lexer": "ipython3",
   "version": "3.12.6"
  }
 },
 "nbformat": 4,
 "nbformat_minor": 5
}
